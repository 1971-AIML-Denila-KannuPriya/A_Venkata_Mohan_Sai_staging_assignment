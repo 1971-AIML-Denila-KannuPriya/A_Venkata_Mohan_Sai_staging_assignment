{
 "cells": [
  {
   "cell_type": "code",
   "execution_count": null,
   "metadata": {},
   "outputs": [],
   "source": [
    "#1 second largest number\n",
    "l=list(map(int,input().split(\" \")))\n",
    "l=list(set(l))\n",
    "l.sort()\n",
    "#print(l)\n",
    "print(l[-2])\n"
   ]
  },
  {
   "cell_type": "code",
   "execution_count": null,
   "metadata": {},
   "outputs": [],
   "source": [
    "s=\"abcdeihfi\"\n",
    "s2=s.replace(\"i\",\"\")\n",
    "print(s2)"
   ]
  },
  {
   "cell_type": "code",
   "execution_count": null,
   "metadata": {},
   "outputs": [],
   "source": []
  },
  {
   "cell_type": "code",
   "execution_count": null,
   "metadata": {},
   "outputs": [],
   "source": [
    "#Check if a number is prime.\n",
    "\n",
    "n= int(input())\n",
    "l=[fa for fa in range(1,n+1) if n%fa==0]\n",
    "#print(l)\n",
    "print(\"Prime\" if len(l)==2 else \"Not Prime\")"
   ]
  },
  {
   "cell_type": "code",
   "execution_count": null,
   "metadata": {},
   "outputs": [],
   "source": [
    "#Write a Python program to reverse a string\n",
    "\n",
    "s= input()\n",
    "res=\"\"\n",
    "for i in range(-1,-len(s)-1,-1):\n",
    "    res+=s[i]\n",
    "print(res)"
   ]
  },
  {
   "cell_type": "code",
   "execution_count": null,
   "metadata": {},
   "outputs": [],
   "source": [
    "# Merge two sorted arrays\n",
    "l1=list(map(int,input().split(\" \")))\n",
    "l2=list(map(int,input().split(\" \")))\n",
    "i,j=0,0\n",
    "res=[]\n",
    "while i<len(l1) and j<len(l2):\n",
    "    if l1[i]<l2[j]:\n",
    "        res.append(l1[i])\n",
    "        i+=1\n",
    "    else:\n",
    "        res.append(l2[j])\n",
    "        j+=1\n",
    "# while i<len(l1):\n",
    "#     res.append(l1[i])\n",
    "#     i+=1\n",
    "\n",
    "# while j<len(l2):\n",
    "#     res.append(l2[j])\n",
    "#     j+=1\n",
    "\n",
    "if i==len(l1):\n",
    "    res+=l2[j:]\n",
    "else:\n",
    "    res+=l1[i:]\n",
    "print(res)\n"
   ]
  },
  {
   "cell_type": "code",
   "execution_count": null,
   "metadata": {},
   "outputs": [],
   "source": [
    "# calculate the factorial\n",
    "\n",
    "def fact(n):\n",
    "    if n==0 or n==1:\n",
    "        return 1\n",
    "    else:\n",
    "        return n*fact(n-1)\n",
    "print(fact(int(input())))"
   ]
  },
  {
   "cell_type": "code",
   "execution_count": null,
   "metadata": {},
   "outputs": [],
   "source": [
    "#Find the largest contiguous subarray sum\n",
    "l=list(map(int,input().split(\" \")))\n",
    "\n",
    "res=float(\"-inf\")\n",
    "for i in range(len(l)-1):\n",
    "    for j in range(i+1,len(l)):\n",
    "        if sum(l[i:j+1])>res:\n",
    "            res=sum(l[i:j+1])\n",
    "print(res)"
   ]
  },
  {
   "cell_type": "code",
   "execution_count": null,
   "metadata": {},
   "outputs": [],
   "source": [
    "#Check if a given string is a palindrome\n",
    "s=input()\n",
    "if s==s[::-1]:\n",
    "    print(\"Palindrome\")\n",
    "else:\n",
    "    print(\"Not Palindrome\")"
   ]
  },
  {
   "cell_type": "code",
   "execution_count": null,
   "metadata": {},
   "outputs": [],
   "source": [
    "# Convert a decimal number to binary\n",
    "\n",
    "def binary(n):\n",
    "    res=\"\"\n",
    "    while(n!=0):\n",
    "        res=str(n%2)+res\n",
    "        n=n//2\n",
    "    print(res)\n",
    "\n",
    "n=binary(int(input()))\n",
    "        "
   ]
  },
  {
   "cell_type": "code",
   "execution_count": null,
   "metadata": {},
   "outputs": [],
   "source": [
    "\n",
    "#Find pairs in an array with a given sum\n",
    "l=list(map(int,input().split(\" \")))\n",
    "s=int(input())\n",
    "for i in range(len(l)-1):\n",
    "    for j in range(i+1,len(l)):\n",
    "        if l[i]+l[j]==s:\n",
    "            print(l[i],l[j])"
   ]
  },
  {
   "cell_type": "code",
   "execution_count": null,
   "metadata": {},
   "outputs": [],
   "source": [
    "#Count the frequency of elements in a list.\n",
    "\n",
    "l=list(map(int,input().split(\" \")))\n",
    "s=int(input())\n",
    "print(l.count(s))"
   ]
  },
  {
   "cell_type": "code",
   "execution_count": null,
   "metadata": {},
   "outputs": [],
   "source": [
    "#Fibonacci sequence:\n",
    "\n",
    "n= int(input())\n",
    "t1=0\n",
    "t2=1\n",
    "\n",
    "while(n!=0):\n",
    "    print(t1,end=\" \")\n",
    "    t3=t1+t2\n",
    "    t1,t2=t2,t3\n",
    "    #t2=t3\n",
    "    \n",
    "    n-=1\n"
   ]
  },
  {
   "cell_type": "code",
   "execution_count": null,
   "metadata": {},
   "outputs": [],
   "source": [
    "#Remove duplicates from a list\n",
    "\n",
    "l=list(map(int,input().split(\" \")))\n",
    "m=[]\n",
    "for i in l:\n",
    "    if i not in m:\n",
    "        m.append(i)\n",
    "print(m)"
   ]
  },
  {
   "cell_type": "code",
   "execution_count": null,
   "metadata": {},
   "outputs": [],
   "source": [
    "#Anagram check:\n",
    "s1=input()\n",
    "s2=input()\n",
    "if sorted(s1)==sorted(s2):\n",
    "    print(\"Anagram\")\n",
    "else:\n",
    "    print(\"Not Anagram\")\n",
    "    "
   ]
  },
  {
   "cell_type": "code",
   "execution_count": null,
   "metadata": {},
   "outputs": [],
   "source": [
    "#Count vowels and consonants\n",
    "\n",
    "s1=input()\n",
    "s1.lower()\n",
    "vowels=\"aeiou\"\n",
    "count=0\n",
    "for ch in s1:\n",
    "    if ch in vowels:\n",
    "        count+=1\n",
    "print(f\"vowels are {count},consonants are {len(s1)-count}\")"
   ]
  },
  {
   "cell_type": "code",
   "execution_count": null,
   "metadata": {},
   "outputs": [],
   "source": []
  },
  {
   "cell_type": "code",
   "execution_count": null,
   "metadata": {},
   "outputs": [],
   "source": [
    "#Binary search algorithm:\n",
    "\n",
    "l=list(map(int,input().split(\" \")))\n",
    "l.sort()\n",
    "low=0\n",
    "val=int(input())\n",
    "high=len(l)-1\n",
    "\n",
    "#print(high,low,mid)\n",
    "while(high>=low):\n",
    "    mid=(high+low)//2\n",
    "    if l[mid]==val:\n",
    "        print(l[mid])\n",
    "        break\n",
    "    elif l[mid]<val:\n",
    "        low=mid+1\n",
    "    else:\n",
    "        high=mid-1\n",
    "else:\n",
    "    print(-1)"
   ]
  },
  {
   "cell_type": "code",
   "execution_count": null,
   "metadata": {},
   "outputs": [],
   "source": [
    "#Check if a list is sorted\n",
    "\n",
    "l1=list(map(int,input().split(\" \")))\n",
    "l2=l1\n",
    "l2.sort()\n",
    "if l1==l2:\n",
    "    print(\"sorted array\")\n",
    "else:\n",
    "    print(\"Not sorted\")\n",
    "    "
   ]
  },
  {
   "cell_type": "code",
   "execution_count": null,
   "metadata": {},
   "outputs": [],
   "source": [
    "#Transpose of a matrix:\n",
    "import numpy as np\n",
    "\n",
    "l=[[1,2,3],[4,5,6],[8,9,0]]\n",
    "n=np.transpose(l)\n",
    "print(n)\n"
   ]
  },
  {
   "cell_type": "code",
   "execution_count": null,
   "metadata": {},
   "outputs": [],
   "source": [
    "#Sum of digits of a number\n",
    "\n",
    "n= int(input())\n",
    "res=0\n",
    "while(n!=0):\n",
    "    res+=n%10\n",
    "    n//=10\n",
    "print(res)"
   ]
  },
  {
   "cell_type": "code",
   "execution_count": null,
   "metadata": {},
   "outputs": [],
   "source": [
    "#Intersection of two lists\n",
    "\n",
    "l1=list(map(int,input().split(\" \")))\n",
    "l2=list(map(int,input().split(\" \")))\n",
    "print(set(l1).intersection(set(l2)))\n"
   ]
  },
  {
   "cell_type": "code",
   "execution_count": null,
   "metadata": {},
   "outputs": [],
   "source": [
    "# Find all permutations of a string\n",
    "\n",
    "from itertools import permutations\n",
    "s= input()\n",
    "print(list(permutations(s)))"
   ]
  },
  {
   "cell_type": "code",
   "execution_count": null,
   "metadata": {},
   "outputs": [],
   "source": [
    "# Python program to\n",
    "# demonstrate protected members\n",
    "\n",
    "# Creating a base class\n",
    "class Base:\n",
    "    def __init__(self):\n",
    "\n",
    "        # Protected member\n",
    "        self._a = 2\n",
    "\n",
    "# Creating a derived class\n",
    "class Derived(Base):\n",
    "    def __init__(self):\n",
    "\n",
    "        # Calling constructor of\n",
    "        # Base class\n",
    "        Base.__init__(self)\n",
    "        print(\"Calling protected member of base class: \", \n",
    "              self._a)\n",
    "\n",
    "        # Modify the protected variable:\n",
    "        self._a = 3\n",
    "        print(\"Calling modified protected member outside class: \",\n",
    "              self._a)\n",
    "\n",
    "\n",
    "obj1 = Derived()\n",
    "\n",
    "obj2 = Base()\n",
    "\n",
    "# Calling protected member\n",
    "# Can be accessed but should not be done due to convention\n",
    "print(\"Accessing protected member of obj1: \", obj1._a)\n",
    "\n",
    "# Accessing the protected variable outside\n",
    "print(\"Accessing protected member of obj2: \", obj2._a)\n"
   ]
  },
  {
   "cell_type": "code",
   "execution_count": 2,
   "metadata": {},
   "outputs": [],
   "source": [
    "from tensorflow.keras import Model\n",
    "from tensorflow.keras.layers import *\n",
    "\n",
    "i1=Input(shape=(64,))\n",
    "i2=Input(shape=(32,))\n"
   ]
  },
  {
   "cell_type": "code",
   "execution_count": 13,
   "metadata": {},
   "outputs": [
    {
     "name": "stdout",
     "output_type": "stream",
     "text": [
      "1\n",
      "tf.Tensor(1, shape=(), dtype=int32) s\n",
      "2\n",
      "tf.Tensor(2, shape=(), dtype=int32) s\n",
      "3\n",
      "tf.Tensor(3, shape=(), dtype=int32) s\n",
      "4\n",
      "tf.Tensor(4, shape=(), dtype=int32) s\n",
      "5\n",
      "tf.Tensor(5, shape=(), dtype=int32) s\n"
     ]
    },
    {
     "data": {
      "text/plain": [
       "[2, 4, 6, 8, 10]"
      ]
     },
     "execution_count": 13,
     "metadata": {},
     "output_type": "execute_result"
    }
   ],
   "source": [
    "import tensorflow as tf\n",
    "\n",
    "# Create a dataset from tensors\n",
    "dataset = tf.data.Dataset.from_tensor_slices([1, 2, 3, 4, 5])\n",
    "\n",
    "for element in dataset:\n",
    "    print(element.numpy())\n",
    "    print(element,\"s\")\n",
    "    \n",
    "dataset = dataset.map(lambda x: x * 2)\n",
    "list(dataset.as_numpy_iterator())"
   ]
  }
 ],
 "metadata": {
  "kernelspec": {
   "display_name": "SEABORN",
   "language": "python",
   "name": "python3"
  },
  "language_info": {
   "codemirror_mode": {
    "name": "ipython",
    "version": 3
   },
   "file_extension": ".py",
   "mimetype": "text/x-python",
   "name": "python",
   "nbconvert_exporter": "python",
   "pygments_lexer": "ipython3",
   "version": "3.12.2"
  }
 },
 "nbformat": 4,
 "nbformat_minor": 2
}
